{
 "cells": [
  {
   "cell_type": "markdown",
   "metadata": {},
   "source": [
    "## Write a function to find the maximum of three numbers."
   ]
  },
  {
   "cell_type": "code",
   "execution_count": 1,
   "metadata": {},
   "outputs": [
    {
     "data": {
      "text/plain": [
       "10"
      ]
     },
     "execution_count": 1,
     "metadata": {},
     "output_type": "execute_result"
    }
   ],
   "source": [
    "# max() is the python inbuilt function\n",
    "# max() is used to find the maximum value from the given list\n",
    "\n",
    "max([1,2,3,4,5,6,7,8,9,10])"
   ]
  },
  {
   "cell_type": "code",
   "execution_count": 1,
   "metadata": {},
   "outputs": [
    {
     "name": "stdout",
     "output_type": "stream",
     "text": [
      "The maximum of 34, 23, and 1 is : 34\n"
     ]
    }
   ],
   "source": [
    "# function\n",
    "def find_maximum(num1, num2, num3):\n",
    "    maximun = max(num1, num2, num3)\n",
    "    return maximun\n",
    "\n",
    "# Input from user\n",
    "first_number = int(input(\"Enter the first number\"))\n",
    "second_number = int(input(\"Enter the second number\"))\n",
    "third_number = int(input(\"Enter the third number\"))\n",
    "\n",
    "max_number = find_maximum(first_number, second_number, third_number)\n",
    "\n",
    "print(f\"The maximum of {first_number}, {second_number}, and {third_number} is : {max_number}\")"
   ]
  },
  {
   "cell_type": "code",
   "execution_count": null,
   "metadata": {},
   "outputs": [],
   "source": []
  }
 ],
 "metadata": {
  "kernelspec": {
   "display_name": "python_ml",
   "language": "python",
   "name": "python3"
  },
  "language_info": {
   "codemirror_mode": {
    "name": "ipython",
    "version": 3
   },
   "file_extension": ".py",
   "mimetype": "text/x-python",
   "name": "python",
   "nbconvert_exporter": "python",
   "pygments_lexer": "ipython3",
   "version": "3.11.5"
  }
 },
 "nbformat": 4,
 "nbformat_minor": 2
}
