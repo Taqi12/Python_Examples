{
 "cells": [
  {
   "cell_type": "markdown",
   "metadata": {},
   "source": [
    "## Implement a basic calculator that can perform addition, subtraction, multiplication, and division."
   ]
  },
  {
   "cell_type": "code",
   "execution_count": 3,
   "metadata": {},
   "outputs": [
    {
     "name": "stdout",
     "output_type": "stream",
     "text": [
      "2 * 2 = 4\n"
     ]
    }
   ],
   "source": [
    "# function\n",
    "def calculator(num1, num2, operation):\n",
    "    if operation == \"+\":\n",
    "        return num1 + num2\n",
    "    elif operation == \"-\":\n",
    "        return num1 - num2\n",
    "    elif operation == \"*\":\n",
    "        return num1 * num2\n",
    "    elif operation == \"/\":\n",
    "        return num1 / num2\n",
    "    else:\n",
    "        return \"Invalid operation\"\n",
    "\n",
    "# Take user input    \n",
    "num1 = int(input(\"Enter the first number: \"))\n",
    "num2 = int(input(\"Enter the second number: \"))\n",
    "operation = input(\"Enter the operation (+, -, *, /): \")\n",
    "\n",
    "# Call the calculator function\n",
    "result = calculator(num1, num2, operation)\n",
    "\n",
    "print(f\"{num1} {operation} {num2} = {result}\")"
   ]
  },
  {
   "cell_type": "code",
   "execution_count": 5,
   "metadata": {},
   "outputs": [
    {
     "name": "stdout",
     "output_type": "stream",
     "text": [
      "The division of 34 and 23 is 1.4782608695652173\n"
     ]
    }
   ],
   "source": [
    "# another example\n",
    "# function\n",
    "def calculator(num1, num2, operation):\n",
    "    if operation == \"+\":\n",
    "        sum =  num1 + num2\n",
    "        print(f\"The sum of {num1} and {num2} is : {sum}\")\n",
    "    elif operation == \"-\":\n",
    "        subtraction = num1 - num2\n",
    "        print(f\"The subtraction of {num1} and {num2} is : {subtraction}\")\n",
    "    elif operation == \"*\":\n",
    "        product = num1 * num2\n",
    "        print(f\"The product of {num1} and {num2} is : {product}\")\n",
    "    elif operation == \"/\":\n",
    "        division = num1 / num2\n",
    "        print(f\"The division of {num1} and {num2} is : {division}\")\n",
    "    else:\n",
    "        return \"Invalid operation\"\n",
    "\n",
    "# Take user input    \n",
    "num1 = int(input(\"Enter the first number: \"))\n",
    "num2 = int(input(\"Enter the second number: \"))\n",
    "operation = input(\"Enter the operation (+, -, *, /): \")\n",
    "\n",
    "# Call the calculator function\n",
    "calculator(num1, num2, operation)\n"
   ]
  },
  {
   "cell_type": "code",
   "execution_count": null,
   "metadata": {},
   "outputs": [],
   "source": []
  }
 ],
 "metadata": {
  "kernelspec": {
   "display_name": "python_ml",
   "language": "python",
   "name": "python3"
  },
  "language_info": {
   "codemirror_mode": {
    "name": "ipython",
    "version": 3
   },
   "file_extension": ".py",
   "mimetype": "text/x-python",
   "name": "python",
   "nbconvert_exporter": "python",
   "pygments_lexer": "ipython3",
   "version": "3.11.5"
  }
 },
 "nbformat": 4,
 "nbformat_minor": 2
}
