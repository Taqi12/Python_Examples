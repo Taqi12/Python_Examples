{
 "cells": [
  {
   "cell_type": "markdown",
   "metadata": {},
   "source": [
    "## Calculate the area of rectangle"
   ]
  },
  {
   "cell_type": "markdown",
   "metadata": {},
   "source": [
    "- `Rectangle`:\n",
    "    - A rectangle is a quadrilateral (a polygon with four sides) with four right angles.\n",
    "    - Opposite sides of a rectangle are equal in length, and all angles are right angles (90 degrees).\n",
    "- `Area of Rectangle`:\n",
    "  - Area is the measure of the amount of space it occupies in two dimensions\n",
    "    - `Area = length * width`\n",
    "- `Perimeter`:\n",
    "  - The perimeter (also called the circumference for circles) is the total length of the boundary of a shape.\n",
    "    - `Perimeter = 2 * (length + width)`"
   ]
  },
  {
   "cell_type": "markdown",
   "metadata": {},
   "source": [
    "### Area of Rectangle"
   ]
  },
  {
   "cell_type": "code",
   "execution_count": 3,
   "metadata": {},
   "outputs": [
    {
     "name": "stdout",
     "output_type": "stream",
     "text": [
      "Area of rectangle is 50\n"
     ]
    }
   ],
   "source": [
    "# length of rectangle\n",
    "l = 10 \n",
    "\n",
    "# breadth of rectangle\n",
    "b = 5\n",
    "\n",
    "# area of rectangle\n",
    "area = l * b\n",
    "\n",
    "print(\"Area of rectangle is\", area)"
   ]
  },
  {
   "cell_type": "code",
   "execution_count": 4,
   "metadata": {},
   "outputs": [
    {
     "name": "stdout",
     "output_type": "stream",
     "text": [
      "Area of rectangle is 1530 sq units\n"
     ]
    }
   ],
   "source": [
    "# Input from user for length and breadth\n",
    "\n",
    "l = int(input(\"Enter length of rectangle: \"))\n",
    "b = int(input(\"Enter breadth of rectangle: \"))\n",
    "\n",
    "# Area of rectangle\n",
    "print(\"Area of rectangle is\", l * b, \"sq units\")"
   ]
  },
  {
   "cell_type": "markdown",
   "metadata": {},
   "source": [
    "### Perimeter of Rectangle"
   ]
  },
  {
   "cell_type": "code",
   "execution_count": 6,
   "metadata": {},
   "outputs": [
    {
     "name": "stdout",
     "output_type": "stream",
     "text": [
      "Perimeter of rectangle is 30\n"
     ]
    }
   ],
   "source": [
    "# Length of rectangle\n",
    "l = 10\n",
    "\n",
    "# Breadth of rectangle\n",
    "b = 5\n",
    "\n",
    "# Perimeter of rectangle\n",
    "perimeter = 2 * (l + b)\n",
    "\n",
    "print(\"Perimeter of rectangle is\", perimeter)"
   ]
  },
  {
   "cell_type": "code",
   "execution_count": 5,
   "metadata": {},
   "outputs": [
    {
     "name": "stdout",
     "output_type": "stream",
     "text": [
      "Perimeter of rectangle is 136 units\n"
     ]
    }
   ],
   "source": [
    "# Input from user for length and breadth\n",
    "l = int(input(\"Enter length of rectangle: \"))\n",
    "b = int(input(\"Enter breadth of rectangle: \"))\n",
    "\n",
    "# Perimeter of rectangle\n",
    "perimeter = 2 * (l + b)\n",
    "\n",
    "print(\"Perimeter of rectangle is\", perimeter, \"units\")"
   ]
  },
  {
   "cell_type": "code",
   "execution_count": null,
   "metadata": {},
   "outputs": [],
   "source": []
  }
 ],
 "metadata": {
  "kernelspec": {
   "display_name": "python_ml",
   "language": "python",
   "name": "python3"
  },
  "language_info": {
   "codemirror_mode": {
    "name": "ipython",
    "version": 3
   },
   "file_extension": ".py",
   "mimetype": "text/x-python",
   "name": "python",
   "nbconvert_exporter": "python",
   "pygments_lexer": "ipython3",
   "version": "3.11.5"
  }
 },
 "nbformat": 4,
 "nbformat_minor": 2
}
