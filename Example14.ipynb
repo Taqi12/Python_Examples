{
 "cells": [
  {
   "cell_type": "markdown",
   "metadata": {},
   "source": [
    "## Calculate the factorial of a given number using a loop."
   ]
  },
  {
   "cell_type": "markdown",
   "metadata": {},
   "source": [
    "- `Definition`    \n",
    "    -  The factorial of a non-negative integer n, denoted by n!, is the product of all positive integers less than or equal to n. The factorial of 0 is defined to be 1. Mathematically, it is defined as:\n",
    "\n",
    "     - n!=n×(n−1)×(n−2)×…×3×2×1\n",
    "\n",
    "     - Here are a few examples:\n",
    "\n",
    "     - 5!=5×4×3×2×1=120\n",
    "\n",
    "     - 4!=4×3×2×1=24\n",
    "\n",
    "     - 0!=1"
   ]
  },
  {
   "cell_type": "code",
   "execution_count": 3,
   "metadata": {},
   "outputs": [
    {
     "name": "stdout",
     "output_type": "stream",
     "text": [
      "The factorial of 4 is 24\n"
     ]
    }
   ],
   "source": [
    "# function\n",
    "def foctorial_cal(number):\n",
    "\n",
    "    # initialize the factorial of 1\n",
    "    factorial = 1\n",
    "\n",
    "    # for negative numbers\n",
    "    if number < 0:\n",
    "        print(\"Factorial does not exist for negative numbers\")\n",
    "    elif number == 0:\n",
    "        print(\"The factorial of 0 is 1\")\n",
    "    else:\n",
    "        for i in range(1, number + 1):\n",
    "            factorial = factorial * i\n",
    "        print(\"The factorial of\", number, \"is\", factorial)\n",
    "    \n",
    "\n",
    "# driver code\n",
    "number = int(input(\"Enter a number: \"))\n",
    "foctorial_cal(number)"
   ]
  },
  {
   "cell_type": "code",
   "execution_count": null,
   "metadata": {},
   "outputs": [],
   "source": []
  }
 ],
 "metadata": {
  "kernelspec": {
   "display_name": "python_ml",
   "language": "python",
   "name": "python3"
  },
  "language_info": {
   "codemirror_mode": {
    "name": "ipython",
    "version": 3
   },
   "file_extension": ".py",
   "mimetype": "text/x-python",
   "name": "python",
   "nbconvert_exporter": "python",
   "pygments_lexer": "ipython3",
   "version": "3.11.5"
  }
 },
 "nbformat": 4,
 "nbformat_minor": 2
}
