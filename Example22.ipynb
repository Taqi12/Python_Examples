{
 "cells": [
  {
   "cell_type": "markdown",
   "metadata": {},
   "source": [
    "## Write a Python script to count the occurrences of each word in a given text."
   ]
  },
  {
   "cell_type": "code",
   "execution_count": 1,
   "metadata": {},
   "outputs": [
    {
     "name": "stdout",
     "output_type": "stream",
     "text": [
      "this: 2\n",
      "is: 1\n",
      "a: 1\n",
      "sample: 1\n",
      "text: 2\n",
      "will: 1\n",
      "be: 1\n",
      "used: 1\n",
      "for: 1\n",
      "counting: 1\n",
      "word: 1\n",
      "occurrences: 1\n"
     ]
    }
   ],
   "source": [
    "def count_word_occurrences(text):\n",
    "    # Convert the text to lowercase to make the counting case-insensitive\n",
    "    text = text.lower()\n",
    "    \n",
    "    # Remove punctuation and split the text into words\n",
    "    words = ''.join(char if char.isalnum() or char.isspace() else ' ' for char in text).split()\n",
    "\n",
    "    # Count the occurrences of each word\n",
    "    word_count = {}\n",
    "    for word in words:\n",
    "        if word in word_count:\n",
    "            word_count[word] += 1\n",
    "        else:\n",
    "            word_count[word] = 1\n",
    "\n",
    "    return word_count\n",
    "\n",
    "# Example usage\n",
    "input_text = \"This is a sample text. This text will be used for counting word occurrences.\"\n",
    "word_occurrences = count_word_occurrences(input_text)\n",
    "\n",
    "# Print the word occurrences\n",
    "for word, count in word_occurrences.items():\n",
    "    print(f\"{word}: {count}\")\n"
   ]
  },
  {
   "cell_type": "code",
   "execution_count": 2,
   "metadata": {},
   "outputs": [
    {
     "name": "stdout",
     "output_type": "stream",
     "text": [
      "This: 1\n",
      "is: 1\n",
      "another: 1\n",
      "example: 1\n",
      "with: 1\n",
      "some: 1\n",
      "punctuation: 1\n",
      "How: 1\n",
      "many: 1\n",
      "times: 1\n",
      "will: 1\n",
      "each: 1\n",
      "word: 1\n",
      "appear: 1\n"
     ]
    }
   ],
   "source": [
    "# another example\n",
    "import string\n",
    "\n",
    "def count_word_occurrences(text):\n",
    "    # Define a set of punctuation characters\n",
    "    punctuation_set = set(string.punctuation)\n",
    "\n",
    "    # Remove punctuation and split the text into words\n",
    "    words = ''.join(char if char not in punctuation_set else ' ' for char in text).split()\n",
    "\n",
    "    # Count the occurrences of each word\n",
    "    word_count = {}\n",
    "    for word in words:\n",
    "        if word in word_count:\n",
    "            word_count[word] += 1\n",
    "        else:\n",
    "            word_count[word] = 1\n",
    "\n",
    "    return word_count\n",
    "\n",
    "# Example usage\n",
    "input_text = \"This is another example, with some punctuation! How many times will each word appear?\"\n",
    "word_occurrences = count_word_occurrences(input_text)\n",
    "\n",
    "# Print the word occurrences\n",
    "for word, count in word_occurrences.items():\n",
    "    print(f\"{word}: {count}\")\n"
   ]
  },
  {
   "cell_type": "code",
   "execution_count": null,
   "metadata": {},
   "outputs": [],
   "source": []
  }
 ],
 "metadata": {
  "kernelspec": {
   "display_name": "python_ml",
   "language": "python",
   "name": "python3"
  },
  "language_info": {
   "codemirror_mode": {
    "name": "ipython",
    "version": 3
   },
   "file_extension": ".py",
   "mimetype": "text/x-python",
   "name": "python",
   "nbconvert_exporter": "python",
   "pygments_lexer": "ipython3",
   "version": "3.11.5"
  }
 },
 "nbformat": 4,
 "nbformat_minor": 2
}
