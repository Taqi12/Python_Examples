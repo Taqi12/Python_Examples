{
 "cells": [
  {
   "cell_type": "markdown",
   "metadata": {},
   "source": [
    "## Create a list of strings and sort them alphabetically."
   ]
  },
  {
   "cell_type": "code",
   "execution_count": 3,
   "metadata": {},
   "outputs": [
    {
     "name": "stdout",
     "output_type": "stream",
     "text": [
      "Original list:  ['dog', 'cat', 'apple', 'banana', 'flower', 'elephant']\n",
      "Sorted list:  ['apple', 'banana', 'cat', 'dog', 'elephant', 'flower']\n"
     ]
    }
   ],
   "source": [
    "# list\n",
    "my_list = ['dog', 'cat', 'apple', 'banana', 'flower', 'elephant']\n",
    "print(\"Original list: \", my_list)\n",
    "\n",
    "# sort\n",
    "sorted_list = my_list.sort()\n",
    "print(\"Sorted list: \", my_list)"
   ]
  },
  {
   "cell_type": "code",
   "execution_count": null,
   "metadata": {},
   "outputs": [],
   "source": []
  }
 ],
 "metadata": {
  "kernelspec": {
   "display_name": "python_ml",
   "language": "python",
   "name": "python3"
  },
  "language_info": {
   "codemirror_mode": {
    "name": "ipython",
    "version": 3
   },
   "file_extension": ".py",
   "mimetype": "text/x-python",
   "name": "python",
   "nbconvert_exporter": "python",
   "pygments_lexer": "ipython3",
   "version": "3.11.5"
  }
 },
 "nbformat": 4,
 "nbformat_minor": 2
}
