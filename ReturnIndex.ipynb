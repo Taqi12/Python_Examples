{
 "cells": [
  {
   "cell_type": "markdown",
   "metadata": {},
   "source": [
    "## Return the index of two numbers whose sum is equal to the target number"
   ]
  },
  {
   "cell_type": "code",
   "execution_count": 1,
   "metadata": {},
   "outputs": [],
   "source": [
    "# define function\n",
    "\n",
    "def twosum(number, target):\n",
    "    for i in range(len(number)- 1):\n",
    "        for j in range(i+1, len(number)):\n",
    "            if number[i] + number[j] == target:\n",
    "                return [i, j]"
   ]
  },
  {
   "cell_type": "code",
   "execution_count": 3,
   "metadata": {},
   "outputs": [
    {
     "name": "stdout",
     "output_type": "stream",
     "text": [
      "[0, 1]\n"
     ]
    }
   ],
   "source": [
    "# call function\n",
    "print(twosum([2,7,11,15], 9))"
   ]
  },
  {
   "cell_type": "code",
   "execution_count": 9,
   "metadata": {},
   "outputs": [
    {
     "name": "stdout",
     "output_type": "stream",
     "text": [
      "The sum of two numbers is : 20 are at index : [2, 4] and the numbers are : {11} and {9}\n"
     ]
    }
   ],
   "source": [
    "# Test Case\n",
    "n = [2,7,11,15,9,6,5]\n",
    "target = 20\n",
    "\n",
    "# call function\n",
    "print(f\"The sum of two numbers is : {target} are at index :\",twosum(n, target), \"and the numbers are :\", {n[twosum(n, target)[0]]}, \"and\", {n[twosum(n, target)[1]]})"
   ]
  },
  {
   "cell_type": "code",
   "execution_count": null,
   "metadata": {},
   "outputs": [],
   "source": []
  }
 ],
 "metadata": {
  "kernelspec": {
   "display_name": "python_ml",
   "language": "python",
   "name": "python3"
  },
  "language_info": {
   "codemirror_mode": {
    "name": "ipython",
    "version": 3
   },
   "file_extension": ".py",
   "mimetype": "text/x-python",
   "name": "python",
   "nbconvert_exporter": "python",
   "pygments_lexer": "ipython3",
   "version": "3.11.5"
  }
 },
 "nbformat": 4,
 "nbformat_minor": 2
}
