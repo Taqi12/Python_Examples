{
 "cells": [
  {
   "cell_type": "markdown",
   "metadata": {},
   "source": [
    "## Write a program to count the number of vowels in a given string"
   ]
  },
  {
   "cell_type": "code",
   "execution_count": 5,
   "metadata": {},
   "outputs": [
    {
     "name": "stdout",
     "output_type": "stream",
     "text": [
      "The number of vowels in abcd is 1\n"
     ]
    }
   ],
   "source": [
    "# function\n",
    "def vowels_counter(word):\n",
    "    count = 0\n",
    "    for i in word:\n",
    "        if i in [\"a\", \"e\", \"i\", \"o\", \"u\", \"A\", \"e\", \"I\", \"O\", \"U\"]:\n",
    "            count += 1\n",
    "    print(f\"The number of vowels in {word} is {count}\")\n",
    "\n",
    "# Input\n",
    "word = input(\"Enter a word: \")\n",
    "vowels_counter(word)"
   ]
  },
  {
   "cell_type": "code",
   "execution_count": 6,
   "metadata": {},
   "outputs": [
    {
     "name": "stdout",
     "output_type": "stream",
     "text": [
      "The number of vowels in 'adjhaldja' is: 3\n"
     ]
    }
   ],
   "source": [
    "# another way\n",
    "# function\n",
    "def count_vowels(input_string):\n",
    "    vowels = \"aeiouAEIOU\"\n",
    "    vowel_count = 0\n",
    "    \n",
    "    for char in input_string:\n",
    "        if char in vowels:\n",
    "            vowel_count += 1\n",
    "    \n",
    "    return vowel_count\n",
    "\n",
    "# Example usage\n",
    "user_input = input(\"Enter a string: \")\n",
    "result = count_vowels(user_input)\n",
    "\n",
    "print(f\"The number of vowels in '{user_input}' is: {result}\")\n"
   ]
  },
  {
   "cell_type": "code",
   "execution_count": null,
   "metadata": {},
   "outputs": [],
   "source": []
  }
 ],
 "metadata": {
  "kernelspec": {
   "display_name": "python_ml",
   "language": "python",
   "name": "python3"
  },
  "language_info": {
   "codemirror_mode": {
    "name": "ipython",
    "version": 3
   },
   "file_extension": ".py",
   "mimetype": "text/x-python",
   "name": "python",
   "nbconvert_exporter": "python",
   "pygments_lexer": "ipython3",
   "version": "3.11.5"
  }
 },
 "nbformat": 4,
 "nbformat_minor": 2
}
