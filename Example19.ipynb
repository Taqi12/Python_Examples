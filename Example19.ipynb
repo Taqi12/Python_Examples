{
 "cells": [
  {
   "cell_type": "markdown",
   "metadata": {},
   "source": [
    "## Write a function to reverse a list."
   ]
  },
  {
   "cell_type": "code",
   "execution_count": 3,
   "metadata": {},
   "outputs": [
    {
     "name": "stdout",
     "output_type": "stream",
     "text": [
      "Original list: [10, 20, 30, 40, 50]\n",
      "Reverse List: [50, 40, 30, 20, 10]\n"
     ]
    }
   ],
   "source": [
    "# function\n",
    "def reverse_list(my_list):\n",
    "    return my_list[::-1]\n",
    "\n",
    "# list\n",
    "my_list = [10, 20, 30, 40, 50]\n",
    "\n",
    "print(\"Original list:\", my_list)\n",
    "print(\"Reverse List:\", reverse_list(my_list))"
   ]
  },
  {
   "cell_type": "code",
   "execution_count": null,
   "metadata": {},
   "outputs": [],
   "source": []
  }
 ],
 "metadata": {
  "kernelspec": {
   "display_name": "python_ml",
   "language": "python",
   "name": "python3"
  },
  "language_info": {
   "codemirror_mode": {
    "name": "ipython",
    "version": 3
   },
   "file_extension": ".py",
   "mimetype": "text/x-python",
   "name": "python",
   "nbconvert_exporter": "python",
   "pygments_lexer": "ipython3",
   "version": "3.11.5"
  }
 },
 "nbformat": 4,
 "nbformat_minor": 2
}
