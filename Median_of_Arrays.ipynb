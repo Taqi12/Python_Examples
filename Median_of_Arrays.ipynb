{
 "cells": [
  {
   "cell_type": "markdown",
   "metadata": {},
   "source": [
    "## Median of two Sorted Arrays"
   ]
  },
  {
   "cell_type": "code",
   "execution_count": 1,
   "metadata": {},
   "outputs": [],
   "source": [
    "def median_of_arrays(arr1, arr2):\n",
    "\n",
    "    # concatenate the arrays\n",
    "    concat = arr1 + arr2\n",
    "\n",
    "    # sort the concatenated array\n",
    "    sorted_array = sorted(concat)\n",
    "\n",
    "    # Find the center of the array\n",
    "    center = int(len(sorted_array) / 2)\n",
    "\n",
    "    if len(sorted_array) % 2 == 0:\n",
    "        median = (sorted_array[center - 1] + sorted_array[center]) / 2\n",
    "    else:\n",
    "        median = float(sorted_array[center])\n",
    "\n",
    "    return median\n"
   ]
  },
  {
   "cell_type": "code",
   "execution_count": 2,
   "metadata": {},
   "outputs": [
    {
     "name": "stdout",
     "output_type": "stream",
     "text": [
      "The median of the two arrays is: 5.5\n"
     ]
    }
   ],
   "source": [
    "arr1 = [1, 2, 3, 4, 5]\n",
    "arr2 = [6, 7, 8, 9, 10]\n",
    "\n",
    "# call the function\n",
    "median = median_of_arrays(arr1, arr2)\n",
    "\n",
    "print(\"The median of the two arrays is:\", median)"
   ]
  },
  {
   "cell_type": "code",
   "execution_count": 8,
   "metadata": {},
   "outputs": [
    {
     "data": {
      "text/plain": [
       "2.5"
      ]
     },
     "execution_count": 8,
     "metadata": {},
     "output_type": "execute_result"
    }
   ],
   "source": [
    "input1 = input(\"Enter first list of numbers separated by spaces: \")\n",
    "num_list1 = list(map(int, input1.split()))\n",
    "input2 = input(\"Enter second list of numbers separated by spaces: \")\n",
    "num_list2 = list(map(int, input2.split()))\n",
    "median_of_arrays(num_list1, num_list2)"
   ]
  },
  {
   "cell_type": "code",
   "execution_count": null,
   "metadata": {},
   "outputs": [],
   "source": []
  },
  {
   "cell_type": "code",
   "execution_count": null,
   "metadata": {},
   "outputs": [],
   "source": []
  }
 ],
 "metadata": {
  "kernelspec": {
   "display_name": "python_ml",
   "language": "python",
   "name": "python3"
  },
  "language_info": {
   "codemirror_mode": {
    "name": "ipython",
    "version": 3
   },
   "file_extension": ".py",
   "mimetype": "text/x-python",
   "name": "python",
   "nbconvert_exporter": "python",
   "pygments_lexer": "ipython3",
   "version": "3.11.5"
  }
 },
 "nbformat": 4,
 "nbformat_minor": 2
}
