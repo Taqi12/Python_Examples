{
 "cells": [
  {
   "cell_type": "markdown",
   "metadata": {},
   "source": [
    "## Implement a program to find the largest element in a list."
   ]
  },
  {
   "cell_type": "code",
   "execution_count": 1,
   "metadata": {},
   "outputs": [
    {
     "name": "stdout",
     "output_type": "stream",
     "text": [
      "List: [10, 5, 23, 8, 15, 30, 18]\n",
      "Largest Element: 30\n"
     ]
    }
   ],
   "source": [
    "def find_largest_element(input_list):\n",
    "    if not input_list:\n",
    "        return \"List is empty.\"\n",
    "    \n",
    "    # Initialize the largest element with the first element\n",
    "    largest_element = input_list[0]\n",
    "    \n",
    "    # Iterate through the list to find the largest element\n",
    "    for element in input_list:\n",
    "        if element > largest_element:\n",
    "            largest_element = element\n",
    "    \n",
    "    return largest_element\n",
    "\n",
    "# Example usage\n",
    "numbers = [10, 5, 23, 8, 15, 30, 18]\n",
    "largest_num = find_largest_element(numbers)\n",
    "\n",
    "print(\"List:\", numbers)\n",
    "print(\"Largest Element:\", largest_num)\n"
   ]
  },
  {
   "cell_type": "code",
   "execution_count": null,
   "metadata": {},
   "outputs": [],
   "source": []
  }
 ],
 "metadata": {
  "kernelspec": {
   "display_name": "python_ml",
   "language": "python",
   "name": "python3"
  },
  "language_info": {
   "codemirror_mode": {
    "name": "ipython",
    "version": 3
   },
   "file_extension": ".py",
   "mimetype": "text/x-python",
   "name": "python",
   "nbconvert_exporter": "python",
   "pygments_lexer": "ipython3",
   "version": "3.11.5"
  }
 },
 "nbformat": 4,
 "nbformat_minor": 2
}
