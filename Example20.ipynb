{
 "cells": [
  {
   "cell_type": "markdown",
   "metadata": {},
   "source": [
    "## Create a set and perform various set operations (union, intersection, difference)."
   ]
  },
  {
   "cell_type": "code",
   "execution_count": 3,
   "metadata": {},
   "outputs": [
    {
     "name": "stdout",
     "output_type": "stream",
     "text": [
      "{1, 2, 3, 4, 5}\n"
     ]
    }
   ],
   "source": [
    "# Set Union\n",
    "\n",
    "Set1 = {1, 2, 3}\n",
    "Set2 = {3, 4, 5}\n",
    "\n",
    "Set3 = Set1.union(Set2)\n",
    "\n",
    "print(Set3)\n"
   ]
  },
  {
   "cell_type": "code",
   "execution_count": 4,
   "metadata": {},
   "outputs": [
    {
     "name": "stdout",
     "output_type": "stream",
     "text": [
      "{'c'}\n"
     ]
    }
   ],
   "source": [
    "# Set Intersection\n",
    "\n",
    "Set1 = {'a', 'b', 'c'}\n",
    "Set2 = {'c', 'd', 'e'}\n",
    "\n",
    "Set3 = Set1.intersection(Set2)\n",
    "\n",
    "print(Set3)"
   ]
  },
  {
   "cell_type": "code",
   "execution_count": 5,
   "metadata": {},
   "outputs": [
    {
     "name": "stdout",
     "output_type": "stream",
     "text": [
      "{'a', 'b'}\n"
     ]
    }
   ],
   "source": [
    "# Set Difference\n",
    "\n",
    "Set1 = {'a', 'b', 'c'}\n",
    "Set2 = {'c', 'd', 'e'}\n",
    "\n",
    "Set3 = Set1.difference(Set2)\n",
    "\n",
    "print(Set3)"
   ]
  },
  {
   "cell_type": "code",
   "execution_count": null,
   "metadata": {},
   "outputs": [],
   "source": []
  }
 ],
 "metadata": {
  "kernelspec": {
   "display_name": "python_ml",
   "language": "python",
   "name": "python3"
  },
  "language_info": {
   "codemirror_mode": {
    "name": "ipython",
    "version": 3
   },
   "file_extension": ".py",
   "mimetype": "text/x-python",
   "name": "python",
   "nbconvert_exporter": "python",
   "pygments_lexer": "ipython3",
   "version": "3.11.5"
  }
 },
 "nbformat": 4,
 "nbformat_minor": 2
}
