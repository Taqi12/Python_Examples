{
 "cells": [
  {
   "cell_type": "markdown",
   "metadata": {},
   "source": [
    "## Write a program to check if a number is even or odd."
   ]
  },
  {
   "cell_type": "markdown",
   "metadata": {},
   "source": [
    "### Even Numbers"
   ]
  },
  {
   "cell_type": "code",
   "execution_count": 7,
   "metadata": {},
   "outputs": [
    {
     "name": "stdout",
     "output_type": "stream",
     "text": [
      "4 is even\n"
     ]
    }
   ],
   "source": [
    "# declear a number\n",
    "x = 4\n",
    "\n",
    "# apply if condition\n",
    "if (x%2==0): # if remainder is 0, then it is even\n",
    "    print(x, \"is even\")\n",
    "else:\n",
    "    print(\"x is odd\")"
   ]
  },
  {
   "cell_type": "code",
   "execution_count": 9,
   "metadata": {},
   "outputs": [
    {
     "name": "stdout",
     "output_type": "stream",
     "text": [
      "43 is Odd\n"
     ]
    }
   ],
   "source": [
    "# Input from user\n",
    "Number = int(input(\"Enter a number: \"))\n",
    "\n",
    "# condition\n",
    "if (Number % 2) == 0:\n",
    "   print(\"{0} is Even\".format(Number))\n",
    "else:\n",
    "   print(\"{0} is Odd\".format(Number))"
   ]
  },
  {
   "cell_type": "markdown",
   "metadata": {},
   "source": [
    "### Odd Numbers"
   ]
  },
  {
   "cell_type": "code",
   "execution_count": 15,
   "metadata": {},
   "outputs": [
    {
     "name": "stdout",
     "output_type": "stream",
     "text": [
      "5 is odd\n"
     ]
    }
   ],
   "source": [
    "# create a variable\n",
    "y = 5\n",
    "\n",
    "# condition\n",
    "if (y%2!=0): # if remainder is not 0, then it is odd\n",
    "    print(y, \"is odd\")\n",
    "else:\n",
    "    print(y,\" is even\")"
   ]
  },
  {
   "cell_type": "code",
   "execution_count": 14,
   "metadata": {},
   "outputs": [
    {
     "name": "stdout",
     "output_type": "stream",
     "text": [
      "55 is Odd\n"
     ]
    }
   ],
   "source": [
    "# Input from user\n",
    "Number = int(input(\"Enter a number: \"))\n",
    "# condition\n",
    "if (Number % 2) != 0:\n",
    "   print(\"{0} is Odd\".format(Number))\n",
    "else:\n",
    "   print(\"{0} is Even\".format(Number))"
   ]
  },
  {
   "cell_type": "code",
   "execution_count": null,
   "metadata": {},
   "outputs": [],
   "source": []
  }
 ],
 "metadata": {
  "kernelspec": {
   "display_name": "python_ml",
   "language": "python",
   "name": "python3"
  },
  "language_info": {
   "codemirror_mode": {
    "name": "ipython",
    "version": 3
   },
   "file_extension": ".py",
   "mimetype": "text/x-python",
   "name": "python",
   "nbconvert_exporter": "python",
   "pygments_lexer": "ipython3",
   "version": "3.11.5"
  }
 },
 "nbformat": 4,
 "nbformat_minor": 2
}
