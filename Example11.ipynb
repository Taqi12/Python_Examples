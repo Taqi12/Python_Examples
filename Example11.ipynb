{
 "cells": [
  {
   "cell_type": "markdown",
   "metadata": {},
   "source": [
    "## Write a Python program to find the square root of a given number."
   ]
  },
  {
   "cell_type": "code",
   "execution_count": 1,
   "metadata": {},
   "outputs": [
    {
     "name": "stdout",
     "output_type": "stream",
     "text": [
      "10.0\n"
     ]
    }
   ],
   "source": [
    "# import libraries\n",
    "from math import sqrt\n",
    "\n",
    "# define a function\n",
    "def square_root(x):\n",
    "    square_root_x = sqrt(x)\n",
    "    return square_root_x\n",
    "\n",
    "# call the function\n",
    "print(square_root(100))"
   ]
  },
  {
   "cell_type": "code",
   "execution_count": 3,
   "metadata": {},
   "outputs": [
    {
     "name": "stdout",
     "output_type": "stream",
     "text": [
      "Square root of 4 is : 2\n"
     ]
    }
   ],
   "source": [
    "# import libraries\n",
    "import math\n",
    "\n",
    "# define a function\n",
    "def square_root(x):\n",
    "    square_root_x = math.sqrt(x)\n",
    "    return int(square_root_x)\n",
    "\n",
    "# input from user\n",
    "x = int(input(\"Enter a number: \")) \n",
    "\n",
    "# call the function\n",
    "print(f\"Square root of {x} is : {square_root(x)}\")"
   ]
  },
  {
   "cell_type": "code",
   "execution_count": null,
   "metadata": {},
   "outputs": [],
   "source": []
  }
 ],
 "metadata": {
  "kernelspec": {
   "display_name": "python_ml",
   "language": "python",
   "name": "python3"
  },
  "language_info": {
   "codemirror_mode": {
    "name": "ipython",
    "version": 3
   },
   "file_extension": ".py",
   "mimetype": "text/x-python",
   "name": "python",
   "nbconvert_exporter": "python",
   "pygments_lexer": "ipython3",
   "version": "3.11.5"
  }
 },
 "nbformat": 4,
 "nbformat_minor": 2
}
