{
 "cells": [
  {
   "cell_type": "markdown",
   "metadata": {},
   "source": [
    "## Write a loop to print the first 5 numbers in the Fibonacci sequence."
   ]
  },
  {
   "cell_type": "code",
   "execution_count": null,
   "metadata": {},
   "outputs": [],
   "source": [
    "def generate_fibonacci(limit):\n",
    "    fibonacci_numbers = [0, 1]\n",
    "\n",
    "    while True:\n",
    "        next_number = fibonacci_numbers[-1] + fibonacci_numbers[-2]\n",
    "        if next_number > limit:\n",
    "            break\n",
    "        fibonacci_numbers.append(next_number)\n",
    "\n",
    "    return fibonacci_numbers\n",
    "\n",
    "# Set the limit for Fibonacci numbers\n",
    "limit = 1000\n",
    "\n",
    "# Generate and print Fibonacci numbers up to the limit\n",
    "fibonacci_sequence = generate_fibonacci(limit)\n",
    "print(\"Fibonacci Numbers up to\", limit, \":\", fibonacci_sequence)\n"
   ]
  },
  {
   "cell_type": "code",
   "execution_count": null,
   "metadata": {},
   "outputs": [],
   "source": []
  }
 ],
 "metadata": {
  "kernelspec": {
   "display_name": "python_ml",
   "language": "python",
   "name": "python3"
  },
  "language_info": {
   "codemirror_mode": {
    "name": "ipython",
    "version": 3
   },
   "file_extension": ".py",
   "mimetype": "text/x-python",
   "name": "python",
   "nbconvert_exporter": "python",
   "pygments_lexer": "ipython3",
   "version": "3.11.5"
  }
 },
 "nbformat": 4,
 "nbformat_minor": 2
}
