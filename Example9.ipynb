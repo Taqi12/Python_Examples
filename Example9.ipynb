{
 "cells": [
  {
   "cell_type": "markdown",
   "metadata": {},
   "source": [
    "## Write a loop to print the first 5 numbers in the Fibonacci sequence."
   ]
  },
  {
   "cell_type": "markdown",
   "metadata": {},
   "source": [
    "- `Definition`\n",
    "  - The Fibonacci sequence is a series of numbers in which each number (known as a Fibonacci number) is the sum of the two preceding ones, usually starting with 0 and 1. Mathematically, it is defined by the recurrence relation:\n",
    "\n",
    "    F(n)=F(n−1)+F(n−2)\n",
    "\n",
    "    with initial conditions:\n",
    "\n",
    "    F(0)=0,F(1)=1\n",
    "\n",
    "    The sequence begins: 0, 1, 1, 2, 3, 5, 8, 13, 21, 34, and so on.\n",
    "\n",
    "    In terms of the recurrence relation, each Fibonacci number is the sum of the two preceding numbers. For example:\n",
    "\n",
    "    F(2)=F(1)+F(0)=1+0=1\n",
    "\n",
    "    F(3)=F(2)+F(1)=1+1=2\n",
    "\n",
    "    And so on. The Fibonacci sequence has applications in various areas, including mathematics, computer science, nature, and art. It exhibits interesting patterns and properties that make it a fascinating topic of study."
   ]
  },
  {
   "cell_type": "markdown",
   "metadata": {},
   "source": [
    "### With While Loop"
   ]
  },
  {
   "cell_type": "code",
   "execution_count": 4,
   "metadata": {},
   "outputs": [
    {
     "name": "stdout",
     "output_type": "stream",
     "text": [
      "Fibonacci Numbers up to 5 : [0, 1, 1, 2, 3, 5]\n"
     ]
    }
   ],
   "source": [
    "def generate_fibonacci(limit):\n",
    "    fibonacci_numbers = [0, 1] # Initial Fibonacci numbers or conditions for Fibonacci sequence\n",
    "\n",
    "    while True:\n",
    "        next_number = fibonacci_numbers[-1] + fibonacci_numbers[-2]\n",
    "        if next_number > limit:\n",
    "            break\n",
    "        fibonacci_numbers.append(next_number)\n",
    "\n",
    "    return fibonacci_numbers\n",
    "\n",
    "# Set the limit for Fibonacci numbers\n",
    "limit = int(input(\"Enter the limit for Fibonacci numbers: \"))\n",
    "\n",
    "# Generate and print Fibonacci numbers up to the limit\n",
    "fibonacci_sequence = generate_fibonacci(limit)\n",
    "print(\"Fibonacci Numbers up to\", limit, \":\", fibonacci_sequence)\n"
   ]
  },
  {
   "cell_type": "markdown",
   "metadata": {},
   "source": [
    "### With For Loop"
   ]
  },
  {
   "cell_type": "code",
   "execution_count": 5,
   "metadata": {},
   "outputs": [
    {
     "name": "stdout",
     "output_type": "stream",
     "text": [
      "Fibonacci Numbers up to 5 : [0, 1, 1, 2, 3, 5]\n"
     ]
    }
   ],
   "source": [
    "fibonacci_numbers = [0, 1] # Initial Fibonacci numbers or conditions for Fibonacci sequence\n",
    "\n",
    "for i in range(limit):\n",
    "    number = fibonacci_numbers[-1] + fibonacci_numbers[-2]\n",
    "    if number > limit:\n",
    "        break\n",
    "    fibonacci_numbers.append(number)\n",
    "\n",
    "limit = int(input(\"Enter the limit for Fibonacci numbers: \"))\n",
    "\n",
    "# Print the Fibonacci numbers up to the limit\n",
    "print(\"Fibonacci Numbers up to\", limit, \":\", fibonacci_numbers)\n"
   ]
  },
  {
   "cell_type": "code",
   "execution_count": null,
   "metadata": {},
   "outputs": [],
   "source": []
  }
 ],
 "metadata": {
  "kernelspec": {
   "display_name": "python_ml",
   "language": "python",
   "name": "python3"
  },
  "language_info": {
   "codemirror_mode": {
    "name": "ipython",
    "version": 3
   },
   "file_extension": ".py",
   "mimetype": "text/x-python",
   "name": "python",
   "nbconvert_exporter": "python",
   "pygments_lexer": "ipython3",
   "version": "3.11.5"
  }
 },
 "nbformat": 4,
 "nbformat_minor": 2
}
