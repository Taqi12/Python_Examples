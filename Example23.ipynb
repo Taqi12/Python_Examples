{
 "cells": [
  {
   "cell_type": "markdown",
   "metadata": {},
   "source": [
    "## Convert a temperature in Celsius to Fahrenheit and Fahreheit to Celsius"
   ]
  },
  {
   "cell_type": "markdown",
   "metadata": {},
   "source": [
    "- The formula to convert a temperature from Celsius to Fahrenheit is given by:\n",
    "    \n",
    "    - F = (9/5)C + 32\n",
    "    - where:\n",
    "\n",
    "      - F is the temperature in Fahrenheit,\n",
    "      - C is the temperature in Celsius."
   ]
  },
  {
   "cell_type": "code",
   "execution_count": 4,
   "metadata": {},
   "outputs": [
    {
     "name": "stdout",
     "output_type": "stream",
     "text": [
      "The 32 degree Celsius is equal to 89.6 degree fahrenheit\n"
     ]
    }
   ],
   "source": [
    "# define function\n",
    "def celsius_to_fahrenheit(celsius):\n",
    "    fahrenheit = (celsius * 9/5) + 32\n",
    "    print(f\"The {celsius} degree Celsius is equal to {fahrenheit} degree fahrenheit\")\n",
    "\n",
    "# call function\n",
    "celsius_to_fahrenheit(32)"
   ]
  },
  {
   "cell_type": "markdown",
   "metadata": {},
   "source": [
    "- The formula to convert a temperature from Fahrenheit to Celsius is given by:\n",
    "  \n",
    "  - C = (F-32) * 5/9\n",
    "    - Where:\n",
    "      - C is the temperature in Celsius\n",
    "      - F is the temperature in Fahrenheit."
   ]
  },
  {
   "cell_type": "code",
   "execution_count": 5,
   "metadata": {},
   "outputs": [
    {
     "name": "stdout",
     "output_type": "stream",
     "text": [
      "The 32 degree fahrenheit is equal to 0.0 degree celsius\n"
     ]
    }
   ],
   "source": [
    "# define function\n",
    "def fahrenheit_to_celsius(fahrenheit):\n",
    "    celsius = (fahrenheit - 32) * 5/9\n",
    "    print(f\"The {fahrenheit} degree fahrenheit is equal to {celsius} degree celsius\")\n",
    "\n",
    "# call function\n",
    "fahrenheit_to_celsius(32)"
   ]
  },
  {
   "cell_type": "code",
   "execution_count": null,
   "metadata": {},
   "outputs": [],
   "source": []
  }
 ],
 "metadata": {
  "kernelspec": {
   "display_name": "python_ml",
   "language": "python",
   "name": "python3"
  },
  "language_info": {
   "codemirror_mode": {
    "name": "ipython",
    "version": 3
   },
   "file_extension": ".py",
   "mimetype": "text/x-python",
   "name": "python",
   "nbconvert_exporter": "python",
   "pygments_lexer": "ipython3",
   "version": "3.11.5"
  }
 },
 "nbformat": 4,
 "nbformat_minor": 2
}
